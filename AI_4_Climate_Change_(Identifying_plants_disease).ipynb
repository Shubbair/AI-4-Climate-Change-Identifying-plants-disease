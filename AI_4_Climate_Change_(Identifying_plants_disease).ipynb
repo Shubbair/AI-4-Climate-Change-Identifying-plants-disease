{
  "nbformat": 4,
  "nbformat_minor": 0,
  "metadata": {
    "colab": {
      "provenance": [],
      "include_colab_link": true
    },
    "kernelspec": {
      "name": "python3",
      "display_name": "Python 3"
    },
    "language_info": {
      "name": "python"
    }
  },
  "cells": [
    {
      "cell_type": "markdown",
      "metadata": {
        "id": "view-in-github",
        "colab_type": "text"
      },
      "source": [
        "<a href=\"https://colab.research.google.com/github/omarrajaa/AI-4-Climate-Change-Identifying-plants-disease/blob/main/AI_4_Climate_Change_(Identifying_plants_disease).ipynb\" target=\"_parent\"><img src=\"https://colab.research.google.com/assets/colab-badge.svg\" alt=\"Open In Colab\"/></a>"
      ]
    },
    {
      "cell_type": "markdown",
      "source": [
        "# Identifying plants disease project "
      ],
      "metadata": {
        "id": "lQLhMaVap5u4"
      }
    },
    {
      "cell_type": "markdown",
      "source": [
        "first we need to import libraries  and put random state"
      ],
      "metadata": {
        "id": "ivdRdLNWrJw3"
      }
    },
    {
      "cell_type": "code",
      "source": [
        "#libraties\n",
        "import tensorflow as tf\n",
        "import numpy as np\n",
        "import pandas as pd\n",
        "import matplotlib.pyplot as plt\n",
        "from sklearn import model_selection\n",
        "import os\n",
        "#random state\n",
        "seed = 42\n",
        "np.random.seed(seed)\n",
        "tf.random.set_seed(seed)"
      ],
      "metadata": {
        "id": "PYump6gDryj4"
      },
      "execution_count": null,
      "outputs": []
    }
  ]
}