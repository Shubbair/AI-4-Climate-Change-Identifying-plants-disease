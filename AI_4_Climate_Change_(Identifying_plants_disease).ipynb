{
  "nbformat": 4,
  "nbformat_minor": 0,
  "metadata": {
    "colab": {
      "provenance": [],
      "toc_visible": true,
      "include_colab_link": true
    },
    "kernelspec": {
      "name": "python3",
      "display_name": "Python 3"
    },
    "language_info": {
      "name": "python"
    }
  },
  "cells": [
    {
      "cell_type": "markdown",
      "metadata": {
        "id": "view-in-github",
        "colab_type": "text"
      },
      "source": [
        "<a href=\"https://colab.research.google.com/github/omarrajaa/AI-4-Climate-Change-Identifying-plants-disease/blob/main/AI_4_Climate_Change_(Identifying_plants_disease).ipynb\" target=\"_parent\"><img src=\"https://colab.research.google.com/assets/colab-badge.svg\" alt=\"Open In Colab\"/></a>"
      ]
    },
    {
      "cell_type": "markdown",
      "source": [
        "# Identifying plants disease project "
      ],
      "metadata": {
        "id": "lQLhMaVap5u4"
      }
    },
    {
      "cell_type": "markdown",
      "source": [
        "first we need to import libraries  and put random state"
      ],
      "metadata": {
        "id": "ivdRdLNWrJw3"
      }
    },
    {
      "cell_type": "code",
      "source": [
        "#libraties\n",
        "import tensorflow as tf\n",
        "import numpy as np\n",
        "import pandas as pd\n",
        "import matplotlib.pyplot as plt\n",
        "from sklearn import model_selection\n",
        "import os\n",
        "#random state\n",
        "seed = 42\n",
        "np.random.seed(seed)\n",
        "tf.random.set_seed(seed)"
      ],
      "metadata": {
        "id": "PYump6gDryj4"
      },
      "execution_count": null,
      "outputs": []
    },
    {
      "cell_type": "code",
      "source": [],
      "metadata": {
        "id": "lWa9yjsXxDpH"
      },
      "execution_count": null,
      "outputs": []
    },
    {
      "cell_type": "markdown",
      "source": [
        "## processing data (pipelines)"
      ],
      "metadata": {
        "id": "crWMqC7ZwnRv"
      }
    },
    {
      "cell_type": "code",
      "source": [
        "def image_to_resnet_tensor(x, y):\n",
        "    # read the image from the path\n",
        "    img = tf.io.read_file(x)\n",
        "    # decode the image\n",
        "    img = tf.image.decode_jpeg(img, channels=3)\n",
        "    # resize the image\n",
        "    img = tf.image.resize(img, [224, 224])\n",
        "    # normalize the image\n",
        "    img = tf.keras.applications.resnet_v2.preprocess_input(img)\n",
        "    return img, y\n",
        "\n",
        "def label_encoder(x, y):\n",
        "  if y == \"؟؟\":\n",
        "    label = 1\n",
        "  else:\n",
        "    label = 0\n",
        "\n",
        "  return x, label\n",
        "\n",
        "\n",
        "def image_augmentation(x, y):\n",
        "    # randomly flip the image horizontally\n",
        "    img = tf.image.random_flip_left_right(x)\n",
        "    # randomly flip the image vertically\n",
        "    img = tf.image.random_flip_up_down(img)\n",
        "    # randomly change the brightness of the image\n",
        "    img = tf.image.random_brightness(img, max_delta=0.2)\n",
        "    # clip the image to be between 0 and 1\n",
        "    img = tf.clip_by_value(img, 0, 1)\n",
        "    return img, y\n",
        "\n",
        "\n",
        "def tf_dataset_creator(x, y, training=False):\n",
        "    # create a tf.data.Dataset from the input output pairs\n",
        "    dataset = tf.data.Dataset.from_tensor_slices((x, y))\n",
        "    # map the image paths to tensors using the new resnet preprocessing function\n",
        "    dataset = dataset.map(image_to_resnet_tensor)\n",
        "    # map the labels to one-hot encoded vectors\n",
        "    dataset = dataset.map(label_encoder)\n",
        "    # if training, apply image augmentation. Remember that we never apply image augmentation to the validation set\n",
        "    if training:\n",
        "        dataset = dataset.map(image_augmentation)\n",
        "    # shuffle the dataset\n",
        "    dataset = dataset.shuffle(1000)\n",
        "    # batch the dataset\n",
        "    dataset = dataset.batch(32)\n",
        "  "
      ],
      "metadata": {
        "id": "tgnmAMdswzId"
      },
      "execution_count": null,
      "outputs": []
    }
  ]
}